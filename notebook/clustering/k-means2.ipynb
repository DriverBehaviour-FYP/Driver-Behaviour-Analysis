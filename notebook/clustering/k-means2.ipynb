{
 "cells": [
  {
   "cell_type": "code",
   "execution_count": 5,
   "metadata": {},
   "outputs": [],
   "source": [
    "# impoert libraries\n",
    "import pandas as pd\n",
    "from sklearn.cluster import KMeans\n",
    "from sklearn.preprocessing import StandardScaler\n",
    "import matplotlib.pyplot as plt"
   ]
  },
  {
   "cell_type": "code",
   "execution_count": 6,
   "metadata": {},
   "outputs": [],
   "source": [
    "# import data\n",
    "data = pd.read_csv('../../data/Raw-GPS-data-Kandy-Buses/MAIN/OUTPUTS/merged_segements_10T.csv')"
   ]
  },
  {
   "cell_type": "code",
   "execution_count": 10,
   "metadata": {},
   "outputs": [
    {
     "data": {
      "text/plain": [
       "['segment_starting_time',\n",
       " 'segment_ending_time',\n",
       " 'trip_id',\n",
       " 'deviceid',\n",
       " 'date',\n",
       " 'start_terminal',\n",
       " 'end_terminal',\n",
       " 'direction',\n",
       " 'day_of_week',\n",
       " 'hour_of_day',\n",
       " 'segment_id',\n",
       " 'average_speed',\n",
       " 'max_speed',\n",
       " 'speed_variation',\n",
       " 'elevation_p',\n",
       " 'elevation_n',\n",
       " 'ele_X_speed_acc_p',\n",
       " 'ele_X_speed_acc_n',\n",
       " 'average_acceleration',\n",
       " 'average_deacceleration',\n",
       " 'std_acc_dacc',\n",
       " 'stop_count']"
      ]
     },
     "execution_count": 10,
     "metadata": {},
     "output_type": "execute_result"
    }
   ],
   "source": [
    "data.columns.to_list()"
   ]
  },
  {
   "cell_type": "code",
   "execution_count": 8,
   "metadata": {},
   "outputs": [],
   "source": [
    "\n",
    "# 3lbow method\n",
    "def elbow_method(data,features):\n",
    "  X = data[features]\n",
    "\n",
    "  scaler = StandardScaler()\n",
    "  X_scaled = scaler.fit_transform(X)\n",
    "\n",
    "  # Initialize lists to store inertia values for different k\n",
    "  inertia_values = []\n",
    "\n",
    "  # Determine a range of k values to test (e.g., from 1 to 10 clusters)\n",
    "  k_values = range(1, 11)\n",
    "\n",
    "  # Calculate inertia for each k value\n",
    "  for k in k_values:\n",
    "      kmeans = KMeans(n_clusters=k,init='k-means++', n_init = 10, random_state=42)\n",
    "      kmeans.fit(X_scaled)\n",
    "      inertia_values.append(kmeans.inertia_)\n",
    "\n",
    "  # Plot the elbow graph\n",
    "  plt.plot(k_values, inertia_values, marker='o', linestyle='-')\n",
    "  plt.xlabel('Number of Clusters (k)')\n",
    "  plt.ylabel('Inertia')\n",
    "  plt.title('Elbow Method for Optimal k')\n",
    "  plt.grid(True)\n",
    "  plt.show()"
   ]
  },
  {
   "cell_type": "code",
   "execution_count": 9,
   "metadata": {},
   "outputs": [],
   "source": [
    "data = data.dropna()"
   ]
  },
  {
   "cell_type": "code",
   "execution_count": null,
   "metadata": {},
   "outputs": [],
   "source": [
    "elbow_method(data, [])"
   ]
  }
 ],
 "metadata": {
  "kernelspec": {
   "display_name": "DriverBehaviorAnalysis",
   "language": "python",
   "name": "python3"
  },
  "language_info": {
   "codemirror_mode": {
    "name": "ipython",
    "version": 3
   },
   "file_extension": ".py",
   "mimetype": "text/x-python",
   "name": "python",
   "nbconvert_exporter": "python",
   "pygments_lexer": "ipython3",
   "version": "3.10.12"
  }
 },
 "nbformat": 4,
 "nbformat_minor": 2
}
