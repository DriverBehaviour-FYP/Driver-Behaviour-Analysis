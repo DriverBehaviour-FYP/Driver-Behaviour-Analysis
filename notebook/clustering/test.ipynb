{
 "cells": [
  {
   "cell_type": "code",
   "execution_count": 1,
   "metadata": {},
   "outputs": [],
   "source": [
    "import pandas as pd\n",
    "import numpy as np\n",
    "import math"
   ]
  },
  {
   "cell_type": "code",
   "execution_count": 13,
   "metadata": {},
   "outputs": [],
   "source": [
    "gps_data = pd.read_csv(\"./merged_gps_data_1000M.csv\")\n",
    "trips_data = pd.read_csv(\"./merged_trips_data.csv\")"
   ]
  },
  {
   "cell_type": "code",
   "execution_count": 14,
   "metadata": {},
   "outputs": [],
   "source": [
    "result = pd.merge(gps_data, trips_data, on='trip_id', how='left')"
   ]
  },
  {
   "cell_type": "code",
   "execution_count": 15,
   "metadata": {},
   "outputs": [
    {
     "data": {
      "text/plain": [
       "Index(['id', 'deviceid', 'devicetime', 'latitude', 'longitude', 'speed',\n",
       "       'date', 'time', 'trip_id', 'elevation', 'segment_id'],\n",
       "      dtype='object')"
      ]
     },
     "execution_count": 15,
     "metadata": {},
     "output_type": "execute_result"
    }
   ],
   "source": [
    "gps_data.columns"
   ]
  },
  {
   "cell_type": "code",
   "execution_count": 16,
   "metadata": {},
   "outputs": [
    {
     "data": {
      "text/plain": [
       "Index(['id', 'deviceid_x', 'devicetime', 'latitude', 'longitude', 'speed',\n",
       "       'date_x', 'time', 'trip_id', 'elevation', 'segment_id', 'deviceid_y',\n",
       "       'date_y', 'start_terminal', 'end_terminal', 'direction', 'start_time',\n",
       "       'end_time', 'duration', 'duration_in_mins', 'day_of_week',\n",
       "       'hour_of_day'],\n",
       "      dtype='object')"
      ]
     },
     "execution_count": 16,
     "metadata": {},
     "output_type": "execute_result"
    }
   ],
   "source": [
    "result.columns"
   ]
  },
  {
   "cell_type": "code",
   "execution_count": 17,
   "metadata": {},
   "outputs": [],
   "source": [
    "direction_added = result[['id', 'deviceid_x', 'devicetime', 'latitude', 'longitude', 'speed',\n",
    "       'date_x', 'time', 'trip_id', 'elevation', 'segment_id', 'direction']]"
   ]
  },
  {
   "cell_type": "code",
   "execution_count": 18,
   "metadata": {},
   "outputs": [],
   "source": [
    "direction_added.reset_index(inplace=True)"
   ]
  },
  {
   "cell_type": "code",
   "execution_count": 19,
   "metadata": {},
   "outputs": [
    {
     "name": "stderr",
     "output_type": "stream",
     "text": [
      "C:\\Users\\manda\\AppData\\Local\\Temp\\ipykernel_13828\\2451420372.py:1: SettingWithCopyWarning: \n",
      "A value is trying to be set on a copy of a slice from a DataFrame\n",
      "\n",
      "See the caveats in the documentation: https://pandas.pydata.org/pandas-docs/stable/user_guide/indexing.html#returning-a-view-versus-a-copy\n",
      "  direction_added.rename(columns={\n"
     ]
    }
   ],
   "source": [
    "direction_added.rename(columns={\n",
    "\"deviceid_x\":\"deviceid\",\n",
    "\"date_x\": \"date\"\n",
    "}, inplace=True)"
   ]
  },
  {
   "cell_type": "code",
   "execution_count": 28,
   "metadata": {},
   "outputs": [
    {
     "data": {
      "text/plain": [
       "6.834642458386965"
      ]
     },
     "execution_count": 28,
     "metadata": {},
     "output_type": "execute_result"
    }
   ],
   "source": [
    "x = len(direction_added[direction_added['direction'].isna()])\n",
    "y = len(direction_added)\n",
    "x/y*100"
   ]
  },
  {
   "cell_type": "code",
   "execution_count": 29,
   "metadata": {},
   "outputs": [],
   "source": [
    "direction_added.to_csv(\"./merged_gps_data_1000M_dir.csv\", index=False)"
   ]
  },
  {
   "cell_type": "code",
   "execution_count": 7,
   "metadata": {},
   "outputs": [
    {
     "name": "stdout",
     "output_type": "stream",
     "text": [
      "1st Quartile: 6.47948\n",
      "3rd Quartile: 16.1987\n"
     ]
    }
   ],
   "source": [
    "first_quartile = gps_data['speed'].quantile(0.25)\n",
    "third_quartile = gps_data['speed'].quantile(0.75)\n",
    "\n",
    "print(f\"1st Quartile: {first_quartile}\")\n",
    "print(f\"3rd Quartile: {third_quartile}\")"
   ]
  },
  {
   "cell_type": "code",
   "execution_count": 4,
   "metadata": {},
   "outputs": [
    {
     "data": {
      "text/html": [
       "<div>\n",
       "<style scoped>\n",
       "    .dataframe tbody tr th:only-of-type {\n",
       "        vertical-align: middle;\n",
       "    }\n",
       "\n",
       "    .dataframe tbody tr th {\n",
       "        vertical-align: top;\n",
       "    }\n",
       "\n",
       "    .dataframe thead th {\n",
       "        text-align: right;\n",
       "    }\n",
       "</style>\n",
       "<table border=\"1\" class=\"dataframe\">\n",
       "  <thead>\n",
       "    <tr style=\"text-align: right;\">\n",
       "      <th></th>\n",
       "      <th>deviceid</th>\n",
       "      <th>bus_stop_no</th>\n",
       "      <th>average_dwell_time</th>\n",
       "    </tr>\n",
       "  </thead>\n",
       "  <tbody>\n",
       "    <tr>\n",
       "      <th>0</th>\n",
       "      <td>116</td>\n",
       "      <td>101</td>\n",
       "      <td>47.549296</td>\n",
       "    </tr>\n",
       "    <tr>\n",
       "      <th>1</th>\n",
       "      <td>116</td>\n",
       "      <td>102</td>\n",
       "      <td>13.262626</td>\n",
       "    </tr>\n",
       "    <tr>\n",
       "      <th>2</th>\n",
       "      <td>116</td>\n",
       "      <td>103</td>\n",
       "      <td>11.782258</td>\n",
       "    </tr>\n",
       "    <tr>\n",
       "      <th>3</th>\n",
       "      <td>116</td>\n",
       "      <td>104</td>\n",
       "      <td>2.325203</td>\n",
       "    </tr>\n",
       "    <tr>\n",
       "      <th>4</th>\n",
       "      <td>116</td>\n",
       "      <td>105</td>\n",
       "      <td>87.196787</td>\n",
       "    </tr>\n",
       "    <tr>\n",
       "      <th>...</th>\n",
       "      <td>...</td>\n",
       "      <td>...</td>\n",
       "      <td>...</td>\n",
       "    </tr>\n",
       "    <tr>\n",
       "      <th>697</th>\n",
       "      <td>1719</td>\n",
       "      <td>209</td>\n",
       "      <td>56.925926</td>\n",
       "    </tr>\n",
       "    <tr>\n",
       "      <th>698</th>\n",
       "      <td>1719</td>\n",
       "      <td>210</td>\n",
       "      <td>16.074074</td>\n",
       "    </tr>\n",
       "    <tr>\n",
       "      <th>699</th>\n",
       "      <td>1719</td>\n",
       "      <td>211</td>\n",
       "      <td>16.611111</td>\n",
       "    </tr>\n",
       "    <tr>\n",
       "      <th>700</th>\n",
       "      <td>1719</td>\n",
       "      <td>212</td>\n",
       "      <td>28.777778</td>\n",
       "    </tr>\n",
       "    <tr>\n",
       "      <th>701</th>\n",
       "      <td>1719</td>\n",
       "      <td>213</td>\n",
       "      <td>11.722222</td>\n",
       "    </tr>\n",
       "  </tbody>\n",
       "</table>\n",
       "<p>702 rows × 3 columns</p>\n",
       "</div>"
      ],
      "text/plain": [
       "     deviceid  bus_stop_no  average_dwell_time\n",
       "0         116          101           47.549296\n",
       "1         116          102           13.262626\n",
       "2         116          103           11.782258\n",
       "3         116          104            2.325203\n",
       "4         116          105           87.196787\n",
       "..        ...          ...                 ...\n",
       "697      1719          209           56.925926\n",
       "698      1719          210           16.074074\n",
       "699      1719          211           16.611111\n",
       "700      1719          212           28.777778\n",
       "701      1719          213           11.722222\n",
       "\n",
       "[702 rows x 3 columns]"
      ]
     },
     "execution_count": 4,
     "metadata": {},
     "output_type": "execute_result"
    }
   ],
   "source": [
    "df = dwell_times\n",
    "grouped_df = df.groupby(['deviceid', 'bus_stop']).agg(\n",
    "    average_dwell_time=('dwell_time_in_seconds', 'mean')\n",
    ").reset_index()\n",
    "\n",
    "# Renaming columns for clarity if necessary\n",
    "grouped_df.columns = ['deviceid', 'bus_stop_no', 'average_dwell_time']\n",
    "\n",
    "grouped_df"
   ]
  }
 ],
 "metadata": {
  "kernelspec": {
   "display_name": "DriverBehaviorAnalysis",
   "language": "python",
   "name": "python3"
  },
  "language_info": {
   "codemirror_mode": {
    "name": "ipython",
    "version": 3
   },
   "file_extension": ".py",
   "mimetype": "text/x-python",
   "name": "python",
   "nbconvert_exporter": "python",
   "pygments_lexer": "ipython3",
   "version": "undefined.undefined.undefined"
  }
 },
 "nbformat": 4,
 "nbformat_minor": 2
}
