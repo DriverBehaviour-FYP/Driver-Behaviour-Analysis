{
 "cells": [
  {
   "cell_type": "code",
   "execution_count": 13,
   "metadata": {},
   "outputs": [],
   "source": [
    "import pandas as pd\n",
    "\n",
    "segments = pd.read_csv(\"./../data/Raw-GPS-data-Kandy-Buses/MAIN/OUTPUTS/merged_segements_10T.csv\")\n",
    "gps_data = pd.read_csv(\"./../data/Raw-GPS-data-Kandy-Buses/MAIN/OUTPUTS/merged_gps_data_10T.csv\")\n"
   ]
  },
  {
   "cell_type": "code",
   "execution_count": 15,
   "metadata": {},
   "outputs": [],
   "source": [
    "gps_for_seg = gps_data[gps_data['segment_id']==1]"
   ]
  },
  {
   "cell_type": "code",
   "execution_count": 17,
   "metadata": {},
   "outputs": [],
   "source": [
    "gps_arr = []\n",
    "for index, row in gps_for_seg.iterrows():\n",
    "    gps_arr.append((row['latitude'], row['longitude']))"
   ]
  },
  {
   "cell_type": "code",
   "execution_count": 62,
   "metadata": {},
   "outputs": [],
   "source": [
    "import colorsys\n",
    "\n",
    "def value_to_hex_color(value, max = 40.0):\n",
    "    # Normalize the input value to the range [0, 1]\n",
    "    normalized_value = value / max\n",
    "\n",
    "    # Map the normalized value to the hue in the HSV color space\n",
    "    hue = normalized_value * (120 / 360)  # 120 degrees for green to red\n",
    "\n",
    "    # Set saturation and value to 1 for full color intensity\n",
    "    saturation = 1.0\n",
    "    brightness = 1.0\n",
    "\n",
    "    # Convert HSV to RGB\n",
    "    rgb = colorsys.hsv_to_rgb(hue, saturation, brightness)\n",
    "\n",
    "    # Scale RGB values to the range [0, 255]\n",
    "    red = int(rgb[0] * 255)\n",
    "    green = int(rgb[1] * 255)\n",
    "    blue = int(rgb[2] * 255)\n",
    "\n",
    "    # Convert RGB to hexadecimal\n",
    "    hex_color = \"#{:02X}{:02X}{:02X}\".format(red, green, blue)\n",
    "\n",
    "    # Return the hexadecimal color code\n",
    "    return hex_color\n",
    "\n",
    "def value_to_hex_color_routes(value, max = 40.0):\n",
    "    # Normalize the input value to the range [0, 1]\n",
    "    normalized_value = (value + 20) / max\n",
    "\n",
    "    # Map the normalized value to the hue in the HSV color space\n",
    "    hue = normalized_value * (120 / 360)  # 120 degrees for green to red\n",
    "\n",
    "    # Set saturation and value to 1 for full color intensity\n",
    "    saturation = 1.0\n",
    "    brightness = 1.0\n",
    "\n",
    "    # Convert HSV to RGB\n",
    "    rgb = colorsys.hsv_to_rgb(hue, saturation, brightness)\n",
    "\n",
    "    # Scale RGB values to the range [0, 255]\n",
    "    red = int(rgb[0] * 255)\n",
    "    green = int(rgb[1] * 255)\n",
    "    blue = int(rgb[2] * 255)\n",
    "\n",
    "    # Convert RGB to hexadecimal\n",
    "    hex_color = \"#{:02X}{:02X}{:02X}\".format(red, green, blue)\n",
    "\n",
    "    # Return the hexadecimal color code\n",
    "    return hex_color"
   ]
  },
  {
   "cell_type": "code",
   "execution_count": 65,
   "metadata": {},
   "outputs": [],
   "source": [
    "import folium\n",
    "# Sample GPS points (latitude, longitude)\n",
    "gps_points = gps_arr\n",
    "\n",
    "# Create a folium map centered at the mean of the GPS points\n",
    "map_center = [sum(x[0] for x in gps_points) / len(gps_points),\n",
    "              sum(x[1] for x in gps_points) / len(gps_points)]\n",
    "mymap = folium.Map(location=map_center, zoom_start=15)\n",
    "\n",
    "# Plot the GPS points on the map\n",
    "count = 1\n",
    "for index, row in gps_for_seg.iterrows():\n",
    "    # folium.Marker(location=point,  icon=folium.Div).add_to(mymap)\n",
    "    folium.CircleMarker(location=(row['latitude'], row['longitude']), radius=6, color='black', popup=f\"{count}: {row['speed']}\", fill_opacity=1.0, fill_color=value_to_hex_color(row['speed'])).add_to(mymap)\n",
    "    count+=1\n",
    "\n",
    "gps_for_seg.reset_index(drop=True)\n",
    "\n",
    "for i in range(0, len(gps_for_seg)-1):\n",
    "    locs = [(gps_for_seg.loc[i,'latitude'],gps_for_seg.loc[i,'longitude']),\n",
    "            (gps_for_seg.loc[i+1,'latitude'],gps_for_seg.loc[i+1,'longitude'])]\n",
    "    elev_diff = gps_for_seg.loc[i+1,'elevation']-gps_for_seg.loc[i,'elevation']\n",
    "    route_line = folium.PolyLine(locations=locs, color=value_to_hex_color_routes(elev_diff,10), weight=2.5, opacity=1, tooltip=elev_diff)\n",
    "    mymap.add_child(route_line)\n",
    "    # print(elev_diff)\n",
    "# Save the map to an HTML file or display it in a Jupyter notebook\n",
    "mymap.save('gps_map.html')\n"
   ]
  }
 ],
 "metadata": {
  "kernelspec": {
   "display_name": "DriverBehaviorAnalysis",
   "language": "python",
   "name": "python3"
  },
  "language_info": {
   "codemirror_mode": {
    "name": "ipython",
    "version": 3
   },
   "file_extension": ".py",
   "mimetype": "text/x-python",
   "name": "python",
   "nbconvert_exporter": "python",
   "pygments_lexer": "ipython3",
   "version": "3.10.9"
  }
 },
 "nbformat": 4,
 "nbformat_minor": 2
}
