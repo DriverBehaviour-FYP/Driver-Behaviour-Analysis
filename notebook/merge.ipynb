{
  "cells": [
    {
      "cell_type": "code",
      "execution_count": 11,
      "metadata": {},
      "outputs": [
        {
          "ename": "ModuleNotFoundError",
          "evalue": "No module named 'utils'",
          "output_type": "error",
          "traceback": [
            "\u001b[1;31m---------------------------------------------------------------------------\u001b[0m",
            "\u001b[1;31mModuleNotFoundError\u001b[0m                       Traceback (most recent call last)",
            "\u001b[1;32mc:\\Users\\manda\\FYP-REPOSITORIES\\Driver-Behaviour-Analysis\\notebook\\merge.ipynb Cell 1\u001b[0m line \u001b[0;36m5\n\u001b[0;32m      <a href='vscode-notebook-cell:/c%3A/Users/manda/FYP-REPOSITORIES/Driver-Behaviour-Analysis/notebook/merge.ipynb#X12sZmlsZQ%3D%3D?line=1'>2</a>\u001b[0m \u001b[39mimport\u001b[39;00m \u001b[39msys\u001b[39;00m\n\u001b[0;32m      <a href='vscode-notebook-cell:/c%3A/Users/manda/FYP-REPOSITORIES/Driver-Behaviour-Analysis/notebook/merge.ipynb#X12sZmlsZQ%3D%3D?line=2'>3</a>\u001b[0m sys\u001b[39m.\u001b[39mpath\u001b[39m.\u001b[39mappend(\u001b[39m\"\u001b[39m\u001b[39m'\u001b[39m\u001b[39mc:\u001b[39m\u001b[39m\\\\\u001b[39;00m\u001b[39mUsers\u001b[39m\u001b[39m\\\\\u001b[39;00m\u001b[39mmanda\u001b[39m\u001b[39m\\\\\u001b[39;00m\u001b[39mFYP-REPOSITORIES\u001b[39m\u001b[39m\\\\\u001b[39;00m\u001b[39mDriver-Behaviour-Analysis\u001b[39m\u001b[39m\\\\\u001b[39;00m\u001b[39mutils\u001b[39m\u001b[39m'\u001b[39m\u001b[39m\"\u001b[39m)\n\u001b[1;32m----> <a href='vscode-notebook-cell:/c%3A/Users/manda/FYP-REPOSITORIES/Driver-Behaviour-Analysis/notebook/merge.ipynb#X12sZmlsZQ%3D%3D?line=4'>5</a>\u001b[0m \u001b[39mfrom\u001b[39;00m \u001b[39mutils\u001b[39;00m\u001b[39m.\u001b[39;00m\u001b[39mlocal\u001b[39;00m\u001b[39m.\u001b[39;00m\u001b[39mstack_files\u001b[39;00m \u001b[39mimport\u001b[39;00m stack_files\n\u001b[0;32m      <a href='vscode-notebook-cell:/c%3A/Users/manda/FYP-REPOSITORIES/Driver-Behaviour-Analysis/notebook/merge.ipynb#X12sZmlsZQ%3D%3D?line=5'>6</a>\u001b[0m filesPath  \u001b[39m=\u001b[39m \u001b[39m\"\u001b[39m\u001b[39m../data/Raw-GPS-data-Kandy-Buses/MAIN/TEMP/AC_SF_CAL/10T/\u001b[39m\u001b[39m\"\u001b[39m\n\u001b[0;32m      <a href='vscode-notebook-cell:/c%3A/Users/manda/FYP-REPOSITORIES/Driver-Behaviour-Analysis/notebook/merge.ipynb#X12sZmlsZQ%3D%3D?line=6'>7</a>\u001b[0m savePath \u001b[39m=\u001b[39m \u001b[39m'\u001b[39m\u001b[39m../data/Raw-GPS-data-Kandy-Buses/MAIN/OUTPUTS/\u001b[39m\u001b[39m'\u001b[39m\n",
            "\u001b[1;31mModuleNotFoundError\u001b[0m: No module named 'utils'"
          ]
        }
      ],
      "source": [
        "from utils.local.stack_files import stack_files\n",
        "filesPath  = \"../data/Raw-GPS-data-Kandy-Buses/MAIN/TEMP/AC_SF_CAL/10T/\"\n",
        "savePath = '../data/Raw-GPS-data-Kandy-Buses/MAIN/OUTPUTS/'\n",
        "fileName = \"merged_segements_10T.csv\"\n",
        "\n",
        "print(stack_files(filesPath,savePath,fileName,\"segment\"))"
      ]
    },
    {
      "cell_type": "code",
      "execution_count": 10,
      "metadata": {},
      "outputs": [
        {
          "data": {
            "text/plain": [
              "'c:\\\\Users\\\\manda\\\\FYP-REPOSITORIES\\\\Driver-Behaviour-Analysis\\\\notebook'"
            ]
          },
          "execution_count": 10,
          "metadata": {},
          "output_type": "execute_result"
        }
      ],
      "source": []
    }
  ],
  "metadata": {
    "kernelspec": {
      "display_name": "base",
      "language": "python",
      "name": "python3"
    },
    "language_info": {
      "codemirror_mode": {
        "name": "ipython",
        "version": 3
      },
      "file_extension": ".py",
      "mimetype": "text/x-python",
      "name": "python",
      "nbconvert_exporter": "python",
      "pygments_lexer": "ipython3",
      "version": "3.10.12"
    }
  },
  "nbformat": 4,
  "nbformat_minor": 2
}
