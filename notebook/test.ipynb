{
 "cells": [
  {
   "cell_type": "code",
   "execution_count": 1,
   "metadata": {},
   "outputs": [],
   "source": [
    "import pandas as pd\n",
    "import numpy as np"
   ]
  },
  {
   "cell_type": "code",
   "execution_count": 2,
   "metadata": {},
   "outputs": [],
   "source": [
    "gps_data = pd.read_csv(\"../data/Raw-GPS-data-Kandy-Buses/MAIN/OUTPUTS/merged_gps_data_10T.csv\")\n",
    "trips_data = pd.read_csv(\"../data/Raw-GPS-data-Kandy-Buses/MAIN/OUTPUTS/merged_trips_data.csv\")"
   ]
  },
  {
   "cell_type": "code",
   "execution_count": 3,
   "metadata": {},
   "outputs": [],
   "source": [
    "# FIXME - add this as a another filtering layer in data preprocessing\n",
    "gps_data = gps_data[gps_data['date']>='2021-10-01']\n",
    "gps_data = gps_data[gps_data['date']<'2021-11-01']"
   ]
  },
  {
   "cell_type": "code",
   "execution_count": 4,
   "metadata": {},
   "outputs": [
    {
     "data": {
      "text/plain": [
       "'2021-10-31'"
      ]
     },
     "execution_count": 4,
     "metadata": {},
     "output_type": "execute_result"
    }
   ],
   "source": [
    "gps_data['date'].max()"
   ]
  }
 ],
 "metadata": {
  "kernelspec": {
   "display_name": "DriverBehaviorAnalysis",
   "language": "python",
   "name": "python3"
  },
  "language_info": {
   "codemirror_mode": {
    "name": "ipython",
    "version": 3
   },
   "file_extension": ".py",
   "mimetype": "text/x-python",
   "name": "python",
   "nbconvert_exporter": "python",
   "pygments_lexer": "ipython3",
   "version": "3.10.12"
  }
 },
 "nbformat": 4,
 "nbformat_minor": 2
}
